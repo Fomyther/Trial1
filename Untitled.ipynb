{
 "cells": [
  {
   "cell_type": "markdown",
   "metadata": {},
   "source": [
    "# Step 1, load data"
   ]
  },
  {
   "cell_type": "code",
   "execution_count": 1,
   "metadata": {
    "collapsed": false
   },
   "outputs": [],
   "source": [
    "import numpy as np\n",
    "import pandas as pd"
   ]
  },
  {
   "cell_type": "markdown",
   "metadata": {},
   "source": [
    "path denote the folder path where all files are located"
   ]
  },
  {
   "cell_type": "code",
   "execution_count": 2,
   "metadata": {
    "collapsed": true
   },
   "outputs": [],
   "source": [
    "path = '/Users/CQ/Downloads/'\n",
    "title = ['Demographics','schools','scores']"
   ]
  },
  {
   "cell_type": "markdown",
   "metadata": {},
   "source": [
    "read data into txt[0]--demographic, txt[1]--school, and txt[2]--score"
   ]
  },
  {
   "cell_type": "code",
   "execution_count": 3,
   "metadata": {
    "collapsed": false
   },
   "outputs": [],
   "source": [
    "txt = [0] *3\n",
    "for i in range(3):\n",
    "    txt[i] = pd.read_table(path + title[i] + '.txt')\n",
    "txt[2].loc[txt[2].subject == 'ela','subject'] = 'ELA'"
   ]
  },
  {
   "cell_type": "markdown",
   "metadata": {},
   "source": [
    "merge three datasets, first one called **dataset**, saved for part B, second one called **data**, proceed for part A"
   ]
  },
  {
   "cell_type": "code",
   "execution_count": 4,
   "metadata": {
    "collapsed": false
   },
   "outputs": [],
   "source": [
    "dataset = pd.merge(txt[0],txt[1], how = 'outer')\n",
    "data = pd.merge(dataset, txt[2], how = 'outer')\n",
    "Total = data.dropna(subset = ['score'])"
   ]
  },
  {
   "cell_type": "markdown",
   "metadata": {},
   "source": [
    "We only care about the students who have taken at least an exam, drop those who have no exams at all"
   ]
  },
  {
   "cell_type": "code",
   "execution_count": 5,
   "metadata": {
    "collapsed": false
   },
   "outputs": [
    {
     "data": {
      "text/html": [
       "<div>\n",
       "<table border=\"1\" class=\"dataframe\">\n",
       "  <thead>\n",
       "    <tr style=\"text-align: right;\">\n",
       "      <th></th>\n",
       "      <th>StudentID</th>\n",
       "      <th>Special_Ed</th>\n",
       "      <th>ELL</th>\n",
       "      <th>School</th>\n",
       "      <th>subject</th>\n",
       "      <th>score</th>\n",
       "    </tr>\n",
       "  </thead>\n",
       "  <tbody>\n",
       "    <tr>\n",
       "      <th>0</th>\n",
       "      <td>1</td>\n",
       "      <td>NaN</td>\n",
       "      <td>A</td>\n",
       "      <td>A</td>\n",
       "      <td>ELA</td>\n",
       "      <td>65</td>\n",
       "    </tr>\n",
       "    <tr>\n",
       "      <th>1</th>\n",
       "      <td>1</td>\n",
       "      <td>NaN</td>\n",
       "      <td>A</td>\n",
       "      <td>A</td>\n",
       "      <td>Math</td>\n",
       "      <td>75</td>\n",
       "    </tr>\n",
       "    <tr>\n",
       "      <th>2</th>\n",
       "      <td>2</td>\n",
       "      <td>Y</td>\n",
       "      <td>B</td>\n",
       "      <td>A</td>\n",
       "      <td>ELA</td>\n",
       "      <td>84</td>\n",
       "    </tr>\n",
       "    <tr>\n",
       "      <th>3</th>\n",
       "      <td>2</td>\n",
       "      <td>Y</td>\n",
       "      <td>B</td>\n",
       "      <td>A</td>\n",
       "      <td>Math</td>\n",
       "      <td>65</td>\n",
       "    </tr>\n",
       "    <tr>\n",
       "      <th>4</th>\n",
       "      <td>3</td>\n",
       "      <td>Y</td>\n",
       "      <td>E</td>\n",
       "      <td>A</td>\n",
       "      <td>ELA</td>\n",
       "      <td>68</td>\n",
       "    </tr>\n",
       "    <tr>\n",
       "      <th>5</th>\n",
       "      <td>3</td>\n",
       "      <td>Y</td>\n",
       "      <td>E</td>\n",
       "      <td>A</td>\n",
       "      <td>Math</td>\n",
       "      <td>91</td>\n",
       "    </tr>\n",
       "    <tr>\n",
       "      <th>7</th>\n",
       "      <td>9</td>\n",
       "      <td>Z</td>\n",
       "      <td>E</td>\n",
       "      <td>B</td>\n",
       "      <td>ELA</td>\n",
       "      <td>79</td>\n",
       "    </tr>\n",
       "    <tr>\n",
       "      <th>8</th>\n",
       "      <td>10</td>\n",
       "      <td>NaN</td>\n",
       "      <td>NaN</td>\n",
       "      <td>B</td>\n",
       "      <td>SOC</td>\n",
       "      <td>67</td>\n",
       "    </tr>\n",
       "    <tr>\n",
       "      <th>9</th>\n",
       "      <td>11</td>\n",
       "      <td>U</td>\n",
       "      <td>A</td>\n",
       "      <td>B</td>\n",
       "      <td>ELA</td>\n",
       "      <td>75</td>\n",
       "    </tr>\n",
       "    <tr>\n",
       "      <th>10</th>\n",
       "      <td>12</td>\n",
       "      <td>K</td>\n",
       "      <td>O</td>\n",
       "      <td>NaN</td>\n",
       "      <td>ELA</td>\n",
       "      <td>84</td>\n",
       "    </tr>\n",
       "    <tr>\n",
       "      <th>11</th>\n",
       "      <td>13</td>\n",
       "      <td>5</td>\n",
       "      <td>E</td>\n",
       "      <td>B</td>\n",
       "      <td>ELA</td>\n",
       "      <td>62</td>\n",
       "    </tr>\n",
       "    <tr>\n",
       "      <th>12</th>\n",
       "      <td>13</td>\n",
       "      <td>5</td>\n",
       "      <td>E</td>\n",
       "      <td>B</td>\n",
       "      <td>ELA</td>\n",
       "      <td>69</td>\n",
       "    </tr>\n",
       "    <tr>\n",
       "      <th>13</th>\n",
       "      <td>13</td>\n",
       "      <td>5</td>\n",
       "      <td>E</td>\n",
       "      <td>B</td>\n",
       "      <td>Math</td>\n",
       "      <td>53</td>\n",
       "    </tr>\n",
       "    <tr>\n",
       "      <th>14</th>\n",
       "      <td>13</td>\n",
       "      <td>5</td>\n",
       "      <td>E</td>\n",
       "      <td>B</td>\n",
       "      <td>Math</td>\n",
       "      <td>57</td>\n",
       "    </tr>\n",
       "    <tr>\n",
       "      <th>17</th>\n",
       "      <td>4</td>\n",
       "      <td>NaN</td>\n",
       "      <td>NaN</td>\n",
       "      <td>A</td>\n",
       "      <td>ELA</td>\n",
       "      <td>51</td>\n",
       "    </tr>\n",
       "    <tr>\n",
       "      <th>18</th>\n",
       "      <td>4</td>\n",
       "      <td>NaN</td>\n",
       "      <td>NaN</td>\n",
       "      <td>A</td>\n",
       "      <td>Math</td>\n",
       "      <td>91</td>\n",
       "    </tr>\n",
       "    <tr>\n",
       "      <th>19</th>\n",
       "      <td>5</td>\n",
       "      <td>NaN</td>\n",
       "      <td>NaN</td>\n",
       "      <td>A</td>\n",
       "      <td>ELA</td>\n",
       "      <td>99</td>\n",
       "    </tr>\n",
       "    <tr>\n",
       "      <th>20</th>\n",
       "      <td>6</td>\n",
       "      <td>NaN</td>\n",
       "      <td>NaN</td>\n",
       "      <td>B</td>\n",
       "      <td>ELA</td>\n",
       "      <td>73</td>\n",
       "    </tr>\n",
       "    <tr>\n",
       "      <th>21</th>\n",
       "      <td>7</td>\n",
       "      <td>NaN</td>\n",
       "      <td>NaN</td>\n",
       "      <td>B</td>\n",
       "      <td>Math</td>\n",
       "      <td>23</td>\n",
       "    </tr>\n",
       "  </tbody>\n",
       "</table>\n",
       "</div>"
      ],
      "text/plain": [
       "    StudentID Special_Ed  ELL School subject  score\n",
       "0           1        NaN    A      A     ELA     65\n",
       "1           1        NaN    A      A    Math     75\n",
       "2           2          Y    B      A     ELA     84\n",
       "3           2          Y    B      A    Math     65\n",
       "4           3          Y    E      A     ELA     68\n",
       "5           3          Y    E      A    Math     91\n",
       "7           9          Z    E      B     ELA     79\n",
       "8          10        NaN  NaN      B     SOC     67\n",
       "9          11          U    A      B     ELA     75\n",
       "10         12          K    O    NaN     ELA     84\n",
       "11         13          5    E      B     ELA     62\n",
       "12         13          5    E      B     ELA     69\n",
       "13         13          5    E      B    Math     53\n",
       "14         13          5    E      B    Math     57\n",
       "17          4        NaN  NaN      A     ELA     51\n",
       "18          4        NaN  NaN      A    Math     91\n",
       "19          5        NaN  NaN      A     ELA     99\n",
       "20          6        NaN  NaN      B     ELA     73\n",
       "21          7        NaN  NaN      B    Math     23"
      ]
     },
     "execution_count": 5,
     "metadata": {},
     "output_type": "execute_result"
    }
   ],
   "source": [
    "Total"
   ]
  },
  {
   "cell_type": "markdown",
   "metadata": {},
   "source": [
    "selecting all the passing scores out of it"
   ]
  },
  {
   "cell_type": "code",
   "execution_count": 6,
   "metadata": {
    "collapsed": false
   },
   "outputs": [
    {
     "data": {
      "text/html": [
       "<div>\n",
       "<table border=\"1\" class=\"dataframe\">\n",
       "  <thead>\n",
       "    <tr style=\"text-align: right;\">\n",
       "      <th></th>\n",
       "      <th>StudentID</th>\n",
       "      <th>Special_Ed</th>\n",
       "      <th>ELL</th>\n",
       "      <th>School</th>\n",
       "      <th>subject</th>\n",
       "      <th>score</th>\n",
       "    </tr>\n",
       "  </thead>\n",
       "  <tbody>\n",
       "    <tr>\n",
       "      <th>0</th>\n",
       "      <td>1</td>\n",
       "      <td>NaN</td>\n",
       "      <td>A</td>\n",
       "      <td>A</td>\n",
       "      <td>ELA</td>\n",
       "      <td>65</td>\n",
       "    </tr>\n",
       "    <tr>\n",
       "      <th>1</th>\n",
       "      <td>1</td>\n",
       "      <td>NaN</td>\n",
       "      <td>A</td>\n",
       "      <td>A</td>\n",
       "      <td>Math</td>\n",
       "      <td>75</td>\n",
       "    </tr>\n",
       "    <tr>\n",
       "      <th>2</th>\n",
       "      <td>2</td>\n",
       "      <td>Y</td>\n",
       "      <td>B</td>\n",
       "      <td>A</td>\n",
       "      <td>ELA</td>\n",
       "      <td>84</td>\n",
       "    </tr>\n",
       "    <tr>\n",
       "      <th>4</th>\n",
       "      <td>3</td>\n",
       "      <td>Y</td>\n",
       "      <td>E</td>\n",
       "      <td>A</td>\n",
       "      <td>ELA</td>\n",
       "      <td>68</td>\n",
       "    </tr>\n",
       "    <tr>\n",
       "      <th>5</th>\n",
       "      <td>3</td>\n",
       "      <td>Y</td>\n",
       "      <td>E</td>\n",
       "      <td>A</td>\n",
       "      <td>Math</td>\n",
       "      <td>91</td>\n",
       "    </tr>\n",
       "    <tr>\n",
       "      <th>7</th>\n",
       "      <td>9</td>\n",
       "      <td>Z</td>\n",
       "      <td>E</td>\n",
       "      <td>B</td>\n",
       "      <td>ELA</td>\n",
       "      <td>79</td>\n",
       "    </tr>\n",
       "    <tr>\n",
       "      <th>8</th>\n",
       "      <td>10</td>\n",
       "      <td>NaN</td>\n",
       "      <td>NaN</td>\n",
       "      <td>B</td>\n",
       "      <td>SOC</td>\n",
       "      <td>67</td>\n",
       "    </tr>\n",
       "    <tr>\n",
       "      <th>9</th>\n",
       "      <td>11</td>\n",
       "      <td>U</td>\n",
       "      <td>A</td>\n",
       "      <td>B</td>\n",
       "      <td>ELA</td>\n",
       "      <td>75</td>\n",
       "    </tr>\n",
       "    <tr>\n",
       "      <th>10</th>\n",
       "      <td>12</td>\n",
       "      <td>K</td>\n",
       "      <td>O</td>\n",
       "      <td>NaN</td>\n",
       "      <td>ELA</td>\n",
       "      <td>84</td>\n",
       "    </tr>\n",
       "    <tr>\n",
       "      <th>12</th>\n",
       "      <td>13</td>\n",
       "      <td>5</td>\n",
       "      <td>E</td>\n",
       "      <td>B</td>\n",
       "      <td>ELA</td>\n",
       "      <td>69</td>\n",
       "    </tr>\n",
       "    <tr>\n",
       "      <th>18</th>\n",
       "      <td>4</td>\n",
       "      <td>NaN</td>\n",
       "      <td>NaN</td>\n",
       "      <td>A</td>\n",
       "      <td>Math</td>\n",
       "      <td>91</td>\n",
       "    </tr>\n",
       "    <tr>\n",
       "      <th>19</th>\n",
       "      <td>5</td>\n",
       "      <td>NaN</td>\n",
       "      <td>NaN</td>\n",
       "      <td>A</td>\n",
       "      <td>ELA</td>\n",
       "      <td>99</td>\n",
       "    </tr>\n",
       "    <tr>\n",
       "      <th>20</th>\n",
       "      <td>6</td>\n",
       "      <td>NaN</td>\n",
       "      <td>NaN</td>\n",
       "      <td>B</td>\n",
       "      <td>ELA</td>\n",
       "      <td>73</td>\n",
       "    </tr>\n",
       "  </tbody>\n",
       "</table>\n",
       "</div>"
      ],
      "text/plain": [
       "    StudentID Special_Ed  ELL School subject  score\n",
       "0           1        NaN    A      A     ELA     65\n",
       "1           1        NaN    A      A    Math     75\n",
       "2           2          Y    B      A     ELA     84\n",
       "4           3          Y    E      A     ELA     68\n",
       "5           3          Y    E      A    Math     91\n",
       "7           9          Z    E      B     ELA     79\n",
       "8          10        NaN  NaN      B     SOC     67\n",
       "9          11          U    A      B     ELA     75\n",
       "10         12          K    O    NaN     ELA     84\n",
       "12         13          5    E      B     ELA     69\n",
       "18          4        NaN  NaN      A    Math     91\n",
       "19          5        NaN  NaN      A     ELA     99\n",
       "20          6        NaN  NaN      B     ELA     73"
      ]
     },
     "execution_count": 6,
     "metadata": {},
     "output_type": "execute_result"
    }
   ],
   "source": [
    "Passing = data[data.score >= 65]\n",
    "Passing"
   ]
  },
  {
   "cell_type": "markdown",
   "metadata": {},
   "source": [
    "# Step 2, solving part A, computing passing rate"
   ]
  },
  {
   "cell_type": "markdown",
   "metadata": {},
   "source": [
    "define a function for general usage, please see detailed information below"
   ]
  },
  {
   "cell_type": "code",
   "execution_count": 7,
   "metadata": {
    "collapsed": true
   },
   "outputs": [],
   "source": [
    "def PassingRate(school, subject, population = 1):\n",
    "    '''This function is for computing passing rate in two schools with resepct to\n",
    "    two subjects, it requires three arguments:\n",
    "    school: string \"A\" or \"B\"\n",
    "    subject: string \"Math\" or \"ELA\"\n",
    "    population:\n",
    "        1 -- all students (default setting)\n",
    "        2 -- ELL students (where students' ELL status is \"A\",\"E\",\"I\",\"O\", or \"U\")\n",
    "        3 -- Special ed recipient (where stduents with \"Y\" Special_Ed flag)\n",
    "        4 -- for BOTH ELL and special ed    \n",
    "    '''\n",
    "    ELLflag = ['A','E','I','O','U']\n",
    "    if population == 2:\n",
    "        passing = Passing[Passing.ELL.isin(ELLflag)]\n",
    "        total = Total[Total.ELL.isin(ELLflag)]\n",
    "    elif population == 3:\n",
    "        passing = Passing[Passing.Special_Ed == 'Y']\n",
    "        total = Total[Total.Special_Ed == 'Y']\n",
    "    elif population == 4:\n",
    "        passing = Passing[(Passing.Special_Ed == 'Y') & (Passing.ELL.isin(ELLflag))]\n",
    "        total = Total[(Total.Special_Ed == 'Y') & (Total.ELL.isin(ELLflag))]\n",
    "    else:\n",
    "        passing = Passing\n",
    "        total = Total\n",
    "\n",
    "    if sum((total.School == school)&(total.subject == subject)) != 0:\n",
    "        return 100.0 * sum((passing.School == school)&(passing.subject == subject)) / sum((total.School == school)&(total.subject == subject))\n",
    "# if for certain population selection, the number of students is zero, then we can't do division and thus return 'nan'\n",
    "    else:\n",
    "        return float('nan')"
   ]
  },
  {
   "cell_type": "code",
   "execution_count": 8,
   "metadata": {
    "collapsed": true
   },
   "outputs": [],
   "source": [
    "school = ['A','B']\n",
    "subject = ['Math','ELA']"
   ]
  },
  {
   "cell_type": "markdown",
   "metadata": {},
   "source": [
    "Store all 16 different passing rates in array called **PR**\u0010"
   ]
  },
  {
   "cell_type": "code",
   "execution_count": 9,
   "metadata": {
    "collapsed": false
   },
   "outputs": [],
   "source": [
    "PR = np.zeros((2,2,4))\n",
    "\n",
    "for i in school:\n",
    "    for j in subject:\n",
    "        for population in range(4):\n",
    "            PR[school.index(i)][subject.index(j)][population] = PassingRate(i,j,population+1)"
   ]
  },
  {
   "cell_type": "markdown",
   "metadata": {},
   "source": [
    "So here first row for school A subject math, second row for school A subject ELA, while the other two for school B respectively, same order.\n",
    "\n",
    "Column order determines the population, for example, second column is the passing rate of ELL students"
   ]
  },
  {
   "cell_type": "code",
   "execution_count": 11,
   "metadata": {
    "collapsed": false
   },
   "outputs": [],
   "source": [
    "dd = pd.DataFrame(PR.reshape(4,4))"
   ]
  },
  {
   "cell_type": "code",
   "execution_count": 13,
   "metadata": {
    "collapsed": false
   },
   "outputs": [
    {
     "data": {
      "text/html": [
       "<div>\n",
       "<table border=\"1\" class=\"dataframe\">\n",
       "  <thead>\n",
       "    <tr style=\"text-align: right;\">\n",
       "      <th></th>\n",
       "      <th>0</th>\n",
       "      <th>1</th>\n",
       "      <th>2</th>\n",
       "      <th>3</th>\n",
       "    </tr>\n",
       "  </thead>\n",
       "  <tbody>\n",
       "    <tr>\n",
       "      <th>0</th>\n",
       "      <td>75</td>\n",
       "      <td>100</td>\n",
       "      <td>50</td>\n",
       "      <td>100</td>\n",
       "    </tr>\n",
       "    <tr>\n",
       "      <th>1</th>\n",
       "      <td>80</td>\n",
       "      <td>100</td>\n",
       "      <td>100</td>\n",
       "      <td>100</td>\n",
       "    </tr>\n",
       "    <tr>\n",
       "      <th>2</th>\n",
       "      <td>0</td>\n",
       "      <td>0</td>\n",
       "      <td>NaN</td>\n",
       "      <td>NaN</td>\n",
       "    </tr>\n",
       "    <tr>\n",
       "      <th>3</th>\n",
       "      <td>80</td>\n",
       "      <td>75</td>\n",
       "      <td>NaN</td>\n",
       "      <td>NaN</td>\n",
       "    </tr>\n",
       "  </tbody>\n",
       "</table>\n",
       "</div>"
      ],
      "text/plain": [
       "    0    1    2    3\n",
       "0  75  100   50  100\n",
       "1  80  100  100  100\n",
       "2   0    0  NaN  NaN\n",
       "3  80   75  NaN  NaN"
      ]
     },
     "execution_count": 13,
     "metadata": {},
     "output_type": "execute_result"
    }
   ],
   "source": [
    "dd"
   ]
  },
  {
   "cell_type": "code",
   "execution_count": 12,
   "metadata": {
    "collapsed": false
   },
   "outputs": [
    {
     "data": {
      "text/plain": [
       "array([[[  75.,  100.,   50.,  100.],\n",
       "        [  80.,  100.,  100.,  100.]],\n",
       "\n",
       "       [[   0.,    0.,   nan,   nan],\n",
       "        [  80.,   75.,   nan,   nan]]])"
      ]
     },
     "execution_count": 12,
     "metadata": {},
     "output_type": "execute_result"
    }
   ],
   "source": [
    "PR"
   ]
  },
  {
   "cell_type": "markdown",
   "metadata": {},
   "source": [
    "# Step 3, solving part B, construct dataset"
   ]
  },
  {
   "cell_type": "markdown",
   "metadata": {},
   "source": [
    "recall **dataset** from part A, proceed"
   ]
  },
  {
   "cell_type": "code",
   "execution_count": null,
   "metadata": {
    "collapsed": false
   },
   "outputs": [],
   "source": [
    "dataset"
   ]
  },
  {
   "cell_type": "markdown",
   "metadata": {},
   "source": [
    "append **math scores** and **ELA scores** to dataset"
   ]
  },
  {
   "cell_type": "code",
   "execution_count": null,
   "metadata": {
    "collapsed": false
   },
   "outputs": [],
   "source": [
    "dataset = pd.merge(dataset,txt[2][txt[2].subject == 'Math'].iloc[:,[0,2]], on = 'StudentID', how= 'outer')\n",
    "dataset.rename(columns={'score': 'score_Math'}, inplace=True)\n",
    "dataset = pd.merge(dataset,txt[2][txt[2].subject == 'ELA'].iloc[:,[0,2]], on = 'StudentID', how= 'outer')\n",
    "dataset.rename(columns={'score': 'score_ELA'}, inplace=True)"
   ]
  },
  {
   "cell_type": "markdown",
   "metadata": {},
   "source": [
    "append **pass_math** and **pass_ELA** to dataset"
   ]
  },
  {
   "cell_type": "code",
   "execution_count": null,
   "metadata": {
    "collapsed": false
   },
   "outputs": [],
   "source": [
    "dataset['Pass_math'] = (dataset.score_Math >= 65 + 0)\n",
    "dataset['Pass_ELA'] = (dataset.score_ELA >= 65 + 0)"
   ]
  },
  {
   "cell_type": "code",
   "execution_count": null,
   "metadata": {
    "collapsed": false
   },
   "outputs": [],
   "source": [
    "dataset.Pass_math[dataset.score_Math.isnull()] = float('nan')\n",
    "dataset.Pass_ELA[dataset.score_ELA.isnull()] = float('nan')"
   ]
  },
  {
   "cell_type": "code",
   "execution_count": null,
   "metadata": {
    "collapsed": false
   },
   "outputs": [],
   "source": [
    "dataset"
   ]
  },
  {
   "cell_type": "markdown",
   "metadata": {},
   "source": [
    "write the dataset into a tab-seperated file in the same folder"
   ]
  },
  {
   "cell_type": "code",
   "execution_count": null,
   "metadata": {
    "collapsed": false
   },
   "outputs": [],
   "source": [
    "dataset.to_csv(path +'Student_Dataset.txt', sep ='\\t', encoding= 'utf-8', index = False)"
   ]
  },
  {
   "cell_type": "code",
   "execution_count": null,
   "metadata": {
    "collapsed": true
   },
   "outputs": [],
   "source": []
  }
 ],
 "metadata": {
  "kernelspec": {
   "display_name": "Python 2",
   "language": "python",
   "name": "python2"
  },
  "language_info": {
   "codemirror_mode": {
    "name": "ipython",
    "version": 2
   },
   "file_extension": ".py",
   "mimetype": "text/x-python",
   "name": "python",
   "nbconvert_exporter": "python",
   "pygments_lexer": "ipython2",
   "version": "2.7.11"
  }
 },
 "nbformat": 4,
 "nbformat_minor": 0
}
